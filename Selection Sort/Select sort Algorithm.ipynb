{
 "cells": [
  {
   "cell_type": "code",
   "execution_count": 5,
   "metadata": {},
   "outputs": [],
   "source": [
    "# Select sort Algorithm\n",
    "# Reference: https://algorithm.yuanbin.me/zh-hans/basics_sorting/selection_sort.html\n",
    "# Date 2019421"
   ]
  },
  {
   "cell_type": "code",
   "execution_count": null,
   "metadata": {},
   "outputs": [],
   "source": [
    "def selectionSort(alist):\n",
    "    for i in range(len(alist)):\n",
    "        print (alist)\n",
    "        min_index = i\n",
    "        for j in range(i+1,len(alist)):\n",
    "            if alist[j] < alist[min_index]:\n",
    "                min_index = j\n",
    "        alist[min_index],alist[i] = alist[i],alist[min_index]\n",
    "    return alist"
   ]
  },
  {
   "cell_type": "code",
   "execution_count": 6,
   "metadata": {},
   "outputs": [
    {
     "name": "stdout",
     "output_type": "stream",
     "text": [
      "[8, 5, 2, 6, 9, 3, 1, 4, 0, 7]\n",
      "[0, 5, 2, 6, 9, 3, 1, 4, 8, 7]\n",
      "[0, 1, 2, 6, 9, 3, 5, 4, 8, 7]\n",
      "[0, 1, 2, 6, 9, 3, 5, 4, 8, 7]\n",
      "[0, 1, 2, 3, 9, 6, 5, 4, 8, 7]\n",
      "[0, 1, 2, 3, 4, 6, 5, 9, 8, 7]\n",
      "[0, 1, 2, 3, 4, 5, 6, 9, 8, 7]\n",
      "[0, 1, 2, 3, 4, 5, 6, 9, 8, 7]\n",
      "[0, 1, 2, 3, 4, 5, 6, 7, 8, 9]\n",
      "[0, 1, 2, 3, 4, 5, 6, 7, 8, 9]\n",
      "[0, 1, 2, 3, 4, 5, 6, 7, 8, 9]\n"
     ]
    }
   ],
   "source": [
    "unsorted_list = [8,5,2,6,9,3,1,4,0,7]\n",
    "print (selectionSort(unsorted_list))"
   ]
  },
  {
   "cell_type": "code",
   "execution_count": null,
   "metadata": {},
   "outputs": [],
   "source": []
  }
 ],
 "metadata": {
  "kernelspec": {
   "display_name": "Python 3",
   "language": "python",
   "name": "python3"
  },
  "language_info": {
   "codemirror_mode": {
    "name": "ipython",
    "version": 3
   },
   "file_extension": ".py",
   "mimetype": "text/x-python",
   "name": "python",
   "nbconvert_exporter": "python",
   "pygments_lexer": "ipython3",
   "version": "3.6.5"
  }
 },
 "nbformat": 4,
 "nbformat_minor": 2
}
